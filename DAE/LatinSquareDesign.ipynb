{
 "cells": [
  {
   "cell_type": "markdown",
   "id": "a072a61d-3526-4d29-82ff-51f5cc7d49f6",
   "metadata": {},
   "source": [
    "# Latin Square Design\n",
    "\n",
    "- when there are two nuisance factors\n",
    "  - to eliminate two nuisance factor\n",
    "- represent by using square\n",
    "  - row and col are two blocking factor on randomized.\n",
    "  - the number of row/col = the number of treatment factor. \n",
    "\n",
    "\n",
    "- compared to\n",
    "  - completely randomized design\n",
    "    - one factor no nuisance factor\n",
    "  - Randomized complete block design\n",
    "    - one factor and one nuisance variable\n",
    "      - the error in completely randomized design is decomposed into error and block variable\n",
    "     \n",
    "**restriction**\n",
    "\n",
    "- two nuisance variable and one treatment factor should have the same # of levels.\n",
    "- only one observation per each combination of two nuisance variable and one treatment factor\n",
    "\n",
    "**randomization in Latin Square**\n",
    "- 1. assign systematically\n",
    "  2. generate the random number for each col and row\n",
    "     - arrange the col and row based on the random number"
   ]
  },
  {
   "cell_type": "markdown",
   "id": "a4897b91-42b2-429b-87f7-84655e92b53e",
   "metadata": {},
   "source": [
    "# Anova for Latin Square Design.\n",
    "\n",
    "**population model**\n",
    "\n",
    "- y(i,j,k) = u + a(i) + t(j) + b(k) + e(i,j,k)\n",
    "  - u - overall mean\n",
    "  - a(i) - effect of row i (blocking variable)\n",
    "    - 1<=i<=p\n",
    "  - t(j) - effect of treatment (j)\n",
    "    - 1<=j<=p\n",
    "  - b(k) - effect of col k\n",
    "    - 1<=k<=p\n",
    "  - e(i,j,k) - error for each observation.\n",
    " \n",
    "- there is no interaction between\n",
    "  - nuisance variables\n",
    "  - treatment variables.\n",
    "**assumption**\n",
    "- e(i, j, k)\n",
    "  - i.i.d N(0, var^2)\n",
    "  - independent\n",
    "  - normal\n",
    "  - constant variance. "
   ]
  },
  {
   "cell_type": "markdown",
   "id": "8f4178a7-0068-427e-b13a-56c5080eee97",
   "metadata": {},
   "source": [
    "# after rejecting the hypothesis \n",
    "- you wanna know which treatment are significant.\n",
    "\n",
    "**confidence interval**\n",
    "\n",
    "- estimate +- (cv)(standard error)\n",
    "  - point estimate of sample treatements\n",
    "  - stand error\n",
    "    - sqrt(MSe / p + MSe / p)\n",
    "\n",
    "**hypothesis testing**\n",
    "- test statistics\n",
    "  - estimate / standard error\n",
    "\n",
    "**critical value**\n",
    "- one at a time\n",
    "  - critical value\n",
    "    - t\n",
    "      - alpha / 2\n",
    "      - df = (p-1)(p-2)\n",
    "- tukeys method\n",
    "  - q (alpha)(p,df) / sqrt(2)\n",
    "    - q (alpha)(p,df)\n",
    "      - y max - y min / sqrt(MSe/ n) "
   ]
  }
 ],
 "metadata": {
  "kernelspec": {
   "display_name": "Python [conda env:base] *",
   "language": "python",
   "name": "conda-base-py"
  },
  "language_info": {
   "codemirror_mode": {
    "name": "ipython",
    "version": 3
   },
   "file_extension": ".py",
   "mimetype": "text/x-python",
   "name": "python",
   "nbconvert_exporter": "python",
   "pygments_lexer": "ipython3",
   "version": "3.12.4"
  }
 },
 "nbformat": 4,
 "nbformat_minor": 5
}
