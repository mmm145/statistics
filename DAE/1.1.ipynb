{
 "cells": [
  {
   "cell_type": "markdown",
   "id": "15fcb53d-fd96-4fdf-8588-a9a5c1ff44a1",
   "metadata": {},
   "source": [
    "# the basic principles of DAE\n",
    "\n",
    "- randomization\n",
    "  - run the experiment in random order.\n",
    "  - to reduce the infuluence of latent variable.\n",
    "  - assign participants to treatment and control group, assuming the probability of each participants being assigned are equal. \n",
    "- replication\n",
    "  - repeat the experiment and observation multiple times. \n",
    "- blocking\n",
    "  - to deal with nuisance factor\n",
    "  - block what you can\n",
    "  - randomize what you can not. "
   ]
  },
  {
   "cell_type": "markdown",
   "id": "1db4bec7-aa7f-49bf-8554-ef9439a9aed1",
   "metadata": {},
   "source": [
    "# strategy of experiment.\n",
    "**best guess experiment**\n",
    "**one factor at a time experiment**\n",
    "**statistically designed experiment**\n",
    "**factorial design**\n",
    "- all possible combinaiton of factors are tested."
   ]
  },
  {
   "cell_type": "markdown",
   "id": "3ffa873f-bc42-4733-bb17-25b06b4edb8f",
   "metadata": {},
   "source": [
    "# steps for experiment\n",
    "- recognition of & statement of problem\n",
    "  - what is the problem\n",
    "  - why the problem happens\n",
    "  - what are the experimental domain?\n",
    "- choose the response variable\n",
    "- choose\n",
    "  - factors\n",
    "    - explanatory variable\n",
    "    - variable you change so that you can see the effect of them on response variable. \n",
    "  - levels\n",
    "    - the variation of each factor\n",
    "      - eg)\n",
    "      - factor is temperature\n",
    "      - level of temperature factor is\n",
    "        - 15/20/25\n",
    "  - range\n",
    "    - the span or interval between minimum and maximum of quantitative valus\n",
    "- choose experimental design\n",
    "- conduct the experiment\n",
    "- statistical analysis.\n",
    "- draw conclusion and recommendation.\n",
    "\n",
    "**tips for designing experiment**\n",
    "\n",
    "- KISS principle\n",
    "  - keep it simple and stupid\n",
    "    - the less factors, the less complex.\n",
    "    - "
   ]
  }
 ],
 "metadata": {
  "kernelspec": {
   "display_name": "Python [conda env:base] *",
   "language": "python",
   "name": "conda-base-py"
  },
  "language_info": {
   "codemirror_mode": {
    "name": "ipython",
    "version": 3
   },
   "file_extension": ".py",
   "mimetype": "text/x-python",
   "name": "python",
   "nbconvert_exporter": "python",
   "pygments_lexer": "ipython3",
   "version": "3.12.4"
  }
 },
 "nbformat": 4,
 "nbformat_minor": 5
}
