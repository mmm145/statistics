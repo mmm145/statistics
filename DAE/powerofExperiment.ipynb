{
 "cells": [
  {
   "cell_type": "markdown",
   "id": "cef9ef25-0cd5-4952-a703-19f2426bbb54",
   "metadata": {},
   "source": [
    "# power of the test\n",
    "\n",
    "- p\n",
    "  - reject the null hypothesis\n",
    "  - when\n",
    "  - the null hypothesis is false.\n",
    "\n",
    "**factor that influence the power of experiment**\n",
    "\n",
    "- alpha\n",
    "  - \n",
    "- sample size\n",
    "  - \n",
    "- effect size\n",
    "  - show how effective the difference is.\n",
    "  - so\n",
    "  - when p-value shows the statistically significant evidence.\n",
    "  - you wanna know how effective it is.\n",
    "  - and\n",
    "  - the size also influence the power. "
   ]
  },
  {
   "cell_type": "markdown",
   "id": "f6a5d589-28fc-4f11-a1ac-662103486c73",
   "metadata": {},
   "source": [
    "# effect size of anova.\n",
    "\n",
    "- f = sqrt( sum 1 to a ( mu(i) - mu )^2 ) / sqrt( a * var^2)\n",
    "  - mu(i)\n",
    "    - mean of ith treatment\n",
    "  - mu\n",
    "    - over all mean.\n",
    "  - a\n",
    "    - the number of treatment\n",
    "  - var^2\n",
    "    - variance of error\n",
    "\n",
    "- but sometimes\n",
    "  - mu(i) is hard to get\n",
    "  - so\n",
    "  - you want to estimate.\n",
    "\n",
    "- sum 1 to a (mu(i)- mu)^2 >= D^2/2\n",
    "  - D = max / mu(i) - mu(j) /"
   ]
  }
 ],
 "metadata": {
  "kernelspec": {
   "display_name": "Python [conda env:base] *",
   "language": "python",
   "name": "conda-base-py"
  },
  "language_info": {
   "codemirror_mode": {
    "name": "ipython",
    "version": 3
   },
   "file_extension": ".py",
   "mimetype": "text/x-python",
   "name": "python",
   "nbconvert_exporter": "python",
   "pygments_lexer": "ipython3",
   "version": "3.12.4"
  }
 },
 "nbformat": 4,
 "nbformat_minor": 5
}
