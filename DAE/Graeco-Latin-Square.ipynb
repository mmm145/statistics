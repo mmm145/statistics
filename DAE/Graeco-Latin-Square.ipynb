{
 "cells": [
  {
   "cell_type": "markdown",
   "id": "51808f44-d6e0-4b46-9fe7-34d63a754de6",
   "metadata": {},
   "source": [
    "# Graeco-Latin Square\n",
    "\n",
    "- there are three nuisance factors.\n",
    "\n",
    "- can study p treatment in p^2 runs.\n",
    "  - with 3 nuisance factors.\n",
    "\n",
    "\n",
    "\n",
    "**how**\n",
    "- use two Latin Square\n",
    "   - combine them.\n",
    " \n",
    "**statistical modeling**\n",
    "\n",
    "- y(i,j,k,l)\n",
    "  - over all mean + theta(i) + t(j) + w(k) + phi(l) + e(i,j,k,l)\n",
    "- degree of freedom\n",
    "  - (p-3)(p-1)"
   ]
  }
 ],
 "metadata": {
  "kernelspec": {
   "display_name": "Python [conda env:base] *",
   "language": "python",
   "name": "conda-base-py"
  },
  "language_info": {
   "codemirror_mode": {
    "name": "ipython",
    "version": 3
   },
   "file_extension": ".py",
   "mimetype": "text/x-python",
   "name": "python",
   "nbconvert_exporter": "python",
   "pygments_lexer": "ipython3",
   "version": "3.12.4"
  }
 },
 "nbformat": 4,
 "nbformat_minor": 5
}
