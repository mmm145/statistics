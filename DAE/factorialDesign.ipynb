{
 "cells": [
  {
   "cell_type": "markdown",
   "id": "f6b7ae1d-db33-4cd1-9bbc-1389135ef3ba",
   "metadata": {},
   "source": [
    "# Main and Interaction Effects\n",
    "\n",
    "**full factorial design**\n",
    "\n",
    "- more than one factor in one study\n",
    "- interaction between each factors.\n",
    "\n",
    "**randomly assigned**\n",
    "\n",
    "- all items/nits/subjects\n",
    "  - randomly assigned to one of treatment combination.\n",
    "\n",
    "**main effect**\n",
    "\n",
    "- change in response caused by the the level of factors.\n",
    "\n",
    "**interaction effect**\n",
    "\n",
    "- sometimes, the difference in response depending of levels are not the same for each factors.\n",
    "  - plot the graph\n",
    "    - one axis is for one factor\n",
    "    - the other is for another\n",
    "    - - then check\n",
    "      - if the line are not parallel\n",
    "        - then the two factors has the interactions.\n",
    "      - otherwise,\n",
    "        - there is no interaction between two factors.\n",
    "\n",
    "- the size of interaction effects.\n",
    "  - difference average of the differecne of one factor when making the other static.\n",
    "\n",
    "**-------------**\n",
    "\n",
    "- when there is an interaction effect\n",
    "  - the main effect does not provide critical information.\n",
    "- thanks to factorial design\n",
    "  - effect of factors through the several factors can be known. "
   ]
  },
  {
   "cell_type": "markdown",
   "id": "f575c7a9-07fd-41e3-8c01-8a32beecfee6",
   "metadata": {},
   "source": [
    "# Two Factor Factorial Esign\n",
    "\n",
    "**case**\n",
    "\n",
    "- factor A\n",
    "  - number of levels - a\n",
    "- factor B\n",
    "  - number of levels - b\n",
    "- n\n",
    "  - replicates\n",
    "- each replicates contains the ab combination of replications.\n",
    "\n",
    "**table**\n",
    "\n",
    "- col and row are for\n",
    "  - factor A and factor B\n",
    "- each (i,j) has n replicates. \n",
    "\n",
    "**statistical model**\n",
    "- y(i,j,k) = mu + t(i) + b(j) + tb(i,j) + e(i,j,k)\n",
    "  - 1<=k<=n\n",
    "  - y(i,j,k) - observation\n",
    "  - t(i) - effect of ith level of one factor\n",
    "    - 1 <= i <= a\n",
    "    - sum/1,a/(t(i)) = 0\n",
    "  - b(j) - effect of jth level of the other factor.\n",
    "    - 1 <=j <= b\n",
    "    - sum/1,b/(b(j)) = 0\n",
    "  - tb(i,j) - interaction effect\n",
    "    - interaction effect\n",
    "    - sum/1,b/(tb(i,j)) = 0\n",
    "    - sum/1,a/(tb(i,j)) = 0 \n",
    "  - e(i,j,k) - error\n",
    "    - assumption - iid. N(0,var^2)\n",
    "\n",
    "**assumption**\n",
    "- e(i,j,k) ~ i.i.d N(0,var^2)\n",
    "\n",
    "**hypothesis**\n",
    "- factor 1\n",
    "- factor 2\n",
    "- interaction\n",
    "\n"
   ]
  },
  {
   "cell_type": "markdown",
   "id": "16ad4218-b7d8-4295-afd1-21fe44f0476e",
   "metadata": {},
   "source": [
    "# General Factorial Design\n",
    "\n",
    "- more than two factors\n",
    "  - a levels in A\n",
    "  - b levels in B\n",
    "  - c levels in C\n",
    "  - ...\n",
    "  - ...\n",
    "- with n replication in each combinaiton of factors. "
   ]
  },
  {
   "cell_type": "markdown",
   "id": "4d642063-b1c2-4348-b197-8c7d3bf3f708",
   "metadata": {},
   "source": [
    "# Blocking in a Factorial Design"
   ]
  },
  {
   "cell_type": "markdown",
   "id": "990aa6e2-da8b-4b3a-b9f8-6578d4cf984e",
   "metadata": {},
   "source": [
    "# Quantitative and Qualtative Design"
   ]
  }
 ],
 "metadata": {
  "kernelspec": {
   "display_name": "Python [conda env:base] *",
   "language": "python",
   "name": "conda-base-py"
  },
  "language_info": {
   "codemirror_mode": {
    "name": "ipython",
    "version": 3
   },
   "file_extension": ".py",
   "mimetype": "text/x-python",
   "name": "python",
   "nbconvert_exporter": "python",
   "pygments_lexer": "ipython3",
   "version": "3.12.4"
  }
 },
 "nbformat": 4,
 "nbformat_minor": 5
}
