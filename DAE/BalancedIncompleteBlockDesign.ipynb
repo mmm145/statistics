{
 "cells": [
  {
   "cell_type": "markdown",
   "id": "39b13328-9db0-44b9-aa32-19423b63f197",
   "metadata": {},
   "source": [
    "# BalancedIncompleteBlockDesign\n",
    "\n",
    "- we can not run\n",
    "  - all the treatment combinations\n",
    "  - in each block.\n",
    "  - for a randomized block design.\n",
    "  - for example)\n",
    "    - the number of treatment - a\n",
    "    - each block can hold only- k\n",
    "**how**\n",
    "- each blocks contains the same number of units.\n",
    "- each treatment occurs the same number of times.\n",
    "- each pair of treatment occurs togther.\n",
    "  - lambda = r(k-1)/(a-1)\n",
    "  - this is the number of one combination of treatments.\n",
    "\n",
    "**statistical modeling**\n",
    "- y(i,j) = over all mean + t(i) + b(j) + e(i,j) "
   ]
  }
 ],
 "metadata": {
  "kernelspec": {
   "display_name": "Python [conda env:base] *",
   "language": "python",
   "name": "conda-base-py"
  },
  "language_info": {
   "codemirror_mode": {
    "name": "ipython",
    "version": 3
   },
   "file_extension": ".py",
   "mimetype": "text/x-python",
   "name": "python",
   "nbconvert_exporter": "python",
   "pygments_lexer": "ipython3",
   "version": "3.12.4"
  }
 },
 "nbformat": 4,
 "nbformat_minor": 5
}
