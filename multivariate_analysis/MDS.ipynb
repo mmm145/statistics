{
 "cells": [
  {
   "cell_type": "markdown",
   "id": "b0b14954-90aa-4798-b3ab-72d78451df17",
   "metadata": {},
   "source": [
    "#  MDS\n",
    "\n",
    "**def**\n",
    "\n",
    "- given\n",
    "  - similarity\n",
    "    - when given similarity\n",
    "    - convert it into dissimilarity by\n",
    "      - subtracting from one value. \n",
    "      - taking inverse of the similarity. \n",
    "  - dissimilarity\n",
    "    - distance\n",
    "      - sometimese there are data\n",
    "        - not satsfity triangular equastion\n",
    "        - causing not enable them to be in coordinate.\n",
    "      - solutions\n",
    "        - Add8 some value to each data \n",
    "    - angle\n",
    "  - between each objejcts\n",
    "- make dimension lower\n",
    "- while maintain the pairwise similarity/dissimilarity\n",
    "\n",
    "\n",
    "## Metric\n",
    "\n",
    "- input\n",
    "  - quantitative/numerical dissimilarity\n",
    "  -  as distance matrix\n",
    "    - Dij = dij^2\n",
    "      - distance between i and j\n",
    "      - dii = 0\n",
    "- \n",
    "\n",
    " \n",
    "\n",
    "**model**\n",
    "- n-dimensional data\n",
    "- to\n",
    "- k-dimensional data\n",
    "- while\n",
    "- maintaing the pairwise distance between each point as much as possible.\n",
    "\n",
    "**assumption**\n",
    "\n",
    "- mean of each object is zero\n",
    "  - for generalization\n",
    "  - sum traverse through columns ( x ) = 0 \n",
    "\n",
    "## non- metric\n",
    "- input\n",
    "  - categorical\n",
    "  - especially\n",
    "  - ordinal categorical "
   ]
  }
 ],
 "metadata": {
  "kernelspec": {
   "display_name": "Python 3 (ipykernel)",
   "language": "python",
   "name": "python3"
  },
  "language_info": {
   "codemirror_mode": {
    "name": "ipython",
    "version": 3
   },
   "file_extension": ".py",
   "mimetype": "text/x-python",
   "name": "python",
   "nbconvert_exporter": "python",
   "pygments_lexer": "ipython3",
   "version": "3.12.4"
  }
 },
 "nbformat": 4,
 "nbformat_minor": 5
}
