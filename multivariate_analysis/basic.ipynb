{
 "cells": [
  {
   "cell_type": "markdown",
   "id": "9adaf9cb-018d-4621-bffd-84b70829e477",
   "metadata": {},
   "source": [
    "# multivariate\n",
    "\n",
    "in statistics, variable is usually random variable.\n",
    "\n",
    "**you want to cheak**\n",
    "\n",
    "- from same distribution?\n",
    "- independent?"
   ]
  },
  {
   "cell_type": "markdown",
   "id": "c8b69568-cbea-4ae8-8491-0bcdef30e0db",
   "metadata": {},
   "source": [
    "# statistics for multivarite \n",
    "\n",
    "## variance covariance matrix\n",
    "\n",
    "let A be variance covariance matrix \n",
    "\n",
    "then A[i][j] = cov(i,j)\n",
    "\n",
    "### how to get it\n",
    "\n",
    "1. gettint the mean\n",
    "2. A - mean\n",
    "3. variance covariance matrix = expectation of ((A-mean) * transpose(A-mean ))\n",
    "\n",
    "### how to analyze\n",
    "\n",
    "### characteristc \n",
    "\n",
    "- positive semidefinte\n",
    "\n",
    "### related to\n",
    "\n",
    "- PCA\n",
    "\n"
   ]
  },
  {
   "cell_type": "markdown",
   "id": "82c1f1e0-4e33-4508-bcc7-beb6d0fb34de",
   "metadata": {},
   "source": [
    "# multivariate gaussian \n",
    "\n",
    "\n",
    "## related to\n",
    "\n",
    "- gaussian mixutuer model\n",
    "  - soft clustering\n"
   ]
  }
 ],
 "metadata": {
  "kernelspec": {
   "display_name": "Python 3 (ipykernel)",
   "language": "python",
   "name": "python3"
  },
  "language_info": {
   "codemirror_mode": {
    "name": "ipython",
    "version": 3
   },
   "file_extension": ".py",
   "mimetype": "text/x-python",
   "name": "python",
   "nbconvert_exporter": "python",
   "pygments_lexer": "ipython3",
   "version": "3.12.4"
  }
 },
 "nbformat": 4,
 "nbformat_minor": 5
}
