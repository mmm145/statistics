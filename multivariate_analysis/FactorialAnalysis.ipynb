{
 "cells": [
  {
   "cell_type": "markdown",
   "id": "55d5ac99-58cd-4659-9b1a-25ed972c86d5",
   "metadata": {},
   "source": [
    "# what\n",
    "# when \n",
    "# why \n",
    "# how "
   ]
  }
 ],
 "metadata": {
  "kernelspec": {
   "display_name": "Python 3 (ipykernel)",
   "language": "python",
   "name": "python3"
  },
  "language_info": {
   "codemirror_mode": {
    "name": "ipython",
    "version": 3
   },
   "file_extension": ".py",
   "mimetype": "text/x-python",
   "name": "python",
   "nbconvert_exporter": "python",
   "pygments_lexer": "ipython3",
   "version": "3.12.4"
  }
 },
 "nbformat": 4,
 "nbformat_minor": 5
}
