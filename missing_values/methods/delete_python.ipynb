{
 "cells": [
  {
   "cell_type": "markdown",
   "id": "8d68e963-b3ac-4344-a78b-ed456c64e828",
   "metadata": {},
   "source": [
    "# CC analysis \n",
    "\n",
    "delete each row that has at least one missing value.\n",
    "\n",
    "\n",
    "threshhold.\n",
    "\n",
    "the proportion of row you delete is less than 5%, then go for it.\n",
    "\n",
    "over 5 %, you do not wanna delete rows. \n",
    "\n",
    "and also\n",
    "\n",
    "the proportion of missing values in each rows is over 50% you prioritize deleting the row.\n",
    "\n"
   ]
  },
  {
   "cell_type": "markdown",
   "id": "89d9b9da-43e1-49ed-9046-2b527b07d5a4",
   "metadata": {},
   "source": [
    "# deleting columns that has missing value.\n",
    "\n",
    "you have to think about how much percent"
   ]
  },
  {
   "cell_type": "markdown",
   "id": "b9758b29-db5c-4139-ad66-e56040ab24ad",
   "metadata": {},
   "source": [
    "# AC analysis\n",
    "\n",
    "remain all the data and calculate the statistics.\n",
    "\n",
    "for example, mean for each features can be calculated with the data set that has missing value \n",
    "\n",
    "but\n",
    "\n",
    "when you wanna  calculate variance co-variance matrix, this can not be done. "
   ]
  },
  {
   "cell_type": "code",
   "execution_count": null,
   "id": "b2195aa5-f525-4341-8d81-cb52292abc22",
   "metadata": {},
   "outputs": [],
   "source": []
  }
 ],
 "metadata": {
  "kernelspec": {
   "display_name": "Python 3 (ipykernel)",
   "language": "python",
   "name": "python3"
  },
  "language_info": {
   "codemirror_mode": {
    "name": "ipython",
    "version": 3
   },
   "file_extension": ".py",
   "mimetype": "text/x-python",
   "name": "python",
   "nbconvert_exporter": "python",
   "pygments_lexer": "ipython3",
   "version": "3.12.4"
  }
 },
 "nbformat": 4,
 "nbformat_minor": 5
}
