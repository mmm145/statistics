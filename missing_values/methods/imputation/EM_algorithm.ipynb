{
 "cells": [
  {
   "cell_type": "markdown",
   "id": "dccaedce-591b-45b0-8bf0-f7b9cd78cea3",
   "metadata": {},
   "source": [
    "# not done 12/22"
   ]
  },
  {
   "cell_type": "markdown",
   "id": "0304eaa0-0a00-4e2d-880e-722f390efe67",
   "metadata": {},
   "source": [
    "usually when the missing data is MNAR\n",
    "\n",
    "you can use EM algorithm"
   ]
  },
  {
   "cell_type": "markdown",
   "id": "b65b453a-522a-432e-b0b1-c8ddfb7e6dcd",
   "metadata": {},
   "source": [
    "# estimation with univariate gaussin distribution\n",
    "\n",
    "missing value\n",
    "\n",
    "1. check the mechanism of missing value\n",
    "    when univariate, mechanism of missing value will be MCAR or MNAR\n",
    "\n",
    "\n",
    "2. which method is good?\n",
    "\n",
    "   MCAR --- the distributions of observed data and missing data are the same.\n",
    "   let's say we wanted n sample data, but got m (m<n)\n",
    "   the only difference is just sample size, so statistics can be calculated or juse random sample n-m data from the distribution if you know the distribution, if you do not know use MLE, MAP and so on.\n",
    "\n",
    "   MNAR --- you wanna reasons behind missing data or EM algorithm\n",
    "\n",
    "\n",
    "\n",
    "\n",
    "## example of MNAR\n",
    "\n",
    "try to get sample data from gaussian distribution with mean, mu and variance, sigma^2.\n",
    "\n",
    "### the difference between censoring and truncate.\n",
    "\n",
    "\n",
    "c is constant\n",
    "\n",
    "case when we get the sample whose value are <= c\n",
    "\n",
    "### censoring \n",
    "\n",
    "we know the number of missing data.\n",
    "\n",
    "we already know the number of sample data we are supposed to get let's say n\n",
    "\n",
    "we observe m sample data\n",
    "\n",
    "so we know the number of missin value is n-m \n",
    "\n",
    "https://www.kaggle.com/code/nnjjpp/imputing-censored-data-using-em\n",
    "\n",
    "### truncate \n",
    "\n",
    "we do not know the number of missing data. \n",
    "\n",
    "we do not know the number of sample data we are supposed to get\n",
    "\n",
    "we observ m sample data\n",
    "\n",
    "so we do not know the number of missing value.\n",
    "\n",
    "### this difference is critical when getting the parameter\n",
    "\n",
    "\n",
    "\n",
    "\n",
    "https://medium.com/@keruchen/expectation-maximization-step-by-step-example-a9bb42add37d\n"
   ]
  }
 ],
 "metadata": {
  "kernelspec": {
   "display_name": "Python 3 (ipykernel)",
   "language": "python",
   "name": "python3"
  },
  "language_info": {
   "codemirror_mode": {
    "name": "ipython",
    "version": 3
   },
   "file_extension": ".py",
   "mimetype": "text/x-python",
   "name": "python",
   "nbconvert_exporter": "python",
   "pygments_lexer": "ipython3",
   "version": "3.12.4"
  }
 },
 "nbformat": 4,
 "nbformat_minor": 5
}
