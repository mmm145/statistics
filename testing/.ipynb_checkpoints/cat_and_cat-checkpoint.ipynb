{
 "cells": [
  {
   "cell_type": "markdown",
   "id": "c726a69b-bca8-483e-8b6f-5e2b6854effa",
   "metadata": {},
   "source": [
    "# independence　(chi squared)\n",
    "\n",
    "two categorical features are independent or not."
   ]
  },
  {
   "cell_type": "markdown",
   "id": "ad8701d2-c536-479a-9f06-51acfcf9e25b",
   "metadata": {},
   "source": [
    "# homogeneity ( chis squared )\n",
    "\n",
    "each category in one features has the same portion or not."
   ]
  },
  {
   "cell_type": "markdown",
   "id": "87394c18-140d-4b32-8b3f-e9b0948188b8",
   "metadata": {},
   "source": [
    "# Fisher’s Exact Test\n",
    "\n",
    "2*2 table when data size is small, this is more accurate."
   ]
  },
  {
   "cell_type": "markdown",
   "id": "663988f5-b753-4a41-bc35-31f138495310",
   "metadata": {},
   "source": [
    "# McNemar’s Test\n",
    "\n",
    "2*2 \n",
    "\n",
    "test for change in paired nominal data"
   ]
  },
  {
   "cell_type": "code",
   "execution_count": 12,
   "id": "1108ec85-91e2-49ee-8758-c7de14d0d373",
   "metadata": {},
   "outputs": [],
   "source": [
    "# Cochran’s Q Test\n",
    "# Chi-Square Goodness of Fit\n",
    "# Kruskal-Wallis H Test\n",
    "# Spearman’s Rank Correlation"
   ]
  },
  {
   "cell_type": "markdown",
   "id": "11a9cb26-8264-481a-9973-a44dd9a8a7d3",
   "metadata": {},
   "source": [
    "# "
   ]
  }
 ],
 "metadata": {
  "kernelspec": {
   "display_name": "Python 3 (ipykernel)",
   "language": "python",
   "name": "python3"
  },
  "language_info": {
   "codemirror_mode": {
    "name": "ipython",
    "version": 3
   },
   "file_extension": ".py",
   "mimetype": "text/x-python",
   "name": "python",
   "nbconvert_exporter": "python",
   "pygments_lexer": "ipython3",
   "version": "3.12.4"
  }
 },
 "nbformat": 4,
 "nbformat_minor": 5
}
