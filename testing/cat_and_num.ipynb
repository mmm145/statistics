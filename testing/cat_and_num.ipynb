{
 "cells": [
  {
   "cell_type": "markdown",
   "id": "90bd4143-9e23-4403-a852-7e5000c0a586",
   "metadata": {},
   "source": [
    "# one way anova"
   ]
  },
  {
   "cell_type": "markdown",
   "id": "ae8e71f6-288e-4961-bc2e-d16cb287bea1",
   "metadata": {},
   "source": [
    "# two way anova"
   ]
  }
 ],
 "metadata": {
  "kernelspec": {
   "display_name": "Python 3 (ipykernel)",
   "language": "python",
   "name": "python3"
  },
  "language_info": {
   "codemirror_mode": {
    "name": "ipython",
    "version": 3
   },
   "file_extension": ".py",
   "mimetype": "text/x-python",
   "name": "python",
   "nbconvert_exporter": "python",
   "pygments_lexer": "ipython3",
   "version": "3.12.4"
  }
 },
 "nbformat": 4,
 "nbformat_minor": 5
}
