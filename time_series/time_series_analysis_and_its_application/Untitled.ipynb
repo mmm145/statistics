{
 "cells": [
  {
   "cell_type": "markdown",
   "id": "4d93c7a9-5577-4470-9a52-d1466b72440e",
   "metadata": {},
   "source": [
    "http://www.stat.ucla.edu/~frederic/415/S23/tsa4.pdf"
   ]
  }
 ],
 "metadata": {
  "kernelspec": {
   "display_name": "Python 3 (ipykernel)",
   "language": "python",
   "name": "python3"
  },
  "language_info": {
   "codemirror_mode": {
    "name": "ipython",
    "version": 3
   },
   "file_extension": ".py",
   "mimetype": "text/x-python",
   "name": "python",
   "nbconvert_exporter": "python",
   "pygments_lexer": "ipython3",
   "version": "3.12.4"
  }
 },
 "nbformat": 4,
 "nbformat_minor": 5
}
