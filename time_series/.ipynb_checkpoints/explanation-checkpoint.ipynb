{
 "cells": [
  {
   "cell_type": "markdown",
   "id": "6be22e91-1c02-4f5e-a5d7-cebea941c9d0",
   "metadata": {},
   "source": [
    "\n",
    "https://qiita.com/YM_DSKR/items/2528548913378bfbf9bc\n",
    "\n",
    "\n",
    "\n",
    "penn state\n",
    "https://online.stat.psu.edu/stat510/lesson/1\n",
    "\n",
    "\n",
    "\n",
    "\n",
    "http://www.stat.ucla.edu/~frederic/415/S23/tsa4.pdf\n",
    "\n"
   ]
  },
  {
   "cell_type": "markdown",
   "id": "178c1658-490e-429c-affa-b04b33415933",
   "metadata": {},
   "source": [
    "# intro \n",
    "\n",
    "**keyword**\n",
    "\n",
    "- autocovariance\n",
    "- autocorrelation\n",
    "- "
   ]
  }
 ],
 "metadata": {
  "kernelspec": {
   "display_name": "Python 3 (ipykernel)",
   "language": "python",
   "name": "python3"
  },
  "language_info": {
   "codemirror_mode": {
    "name": "ipython",
    "version": 3
   },
   "file_extension": ".py",
   "mimetype": "text/x-python",
   "name": "python",
   "nbconvert_exporter": "python",
   "pygments_lexer": "ipython3",
   "version": "3.12.4"
  }
 },
 "nbformat": 4,
 "nbformat_minor": 5
}
